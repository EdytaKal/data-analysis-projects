{
 "cells": [
  {
   "cell_type": "code",
   "execution_count": 25,
   "id": "363cc623",
   "metadata": {},
   "outputs": [],
   "source": [
    "# Import libraries\n",
    "from bs4 import BeautifulSoup\n",
    "import requests\n",
    "import time\n",
    "import datetime\n",
    "import smtplib\n",
    "import csv\n",
    "import pandas as pd"
   ]
  },
  {
   "cell_type": "code",
   "execution_count": 26,
   "id": "a7c2ce09",
   "metadata": {},
   "outputs": [
    {
     "name": "stdout",
     "output_type": "stream",
     "text": [
      "\n",
      "                    I Got Your Back Stick Figure Graphic Friendship Novelty Sarcastic Funny T Shirt\n",
      "                   \n",
      "$18.99\n",
      "4.7\n"
     ]
    }
   ],
   "source": [
    "# Connect to website\n",
    "URL = 'https://www.amazon.com/dp/B076FTC6FQ/ref=sspa_dk_detail_0?psc=1&pd_rd_i=B076FTC6FQ&pd_rd_w=nqEDv&content-id=amzn1.sym.eb7c1ac5-7c51-4df5-ba34-ca810f1f119a&pf_rd_p=eb7c1ac5-7c51-4df5-ba34-ca810f1f119a&pf_rd_r=VRMY738MW759CKB2E9EA&pd_rd_wg=FG7fv&pd_rd_r=58d7546e-3f51-4955-860c-dfe534a963dd&s=apparel&sp_csd=d2lkZ2V0TmFtZT1zcF9kZXRhaWw'\n",
    "\n",
    "headers = { \"Accept\": \"text/html,application/xhtml+xml,application/xml;q=0.9,image/avif,image/webp,image/apng,*/*;q=0.8,application/signed-exchange;v=b3;q=0.7\", \n",
    "            \"Accept-Encoding\": \"gzip, deflate, br, zstd\", \n",
    "            \"Accept-Language\": \"en-GB,en-US;q=0.9,en;q=0.8,pl;q=0.7\", \n",
    "            \"User-Agent\": \"Mozilla/5.0 (Windows NT 10.0; Win64; x64) AppleWebKit/537.36 (KHTML, like Gecko) Chrome/125.0.0.0 Safari/537.36\", \"Accept-Encoding\":\"gzip, deflate\"}\n",
    "\n",
    "page = requests.get(URL, headers = headers)\n",
    "\n",
    "soup1 = BeautifulSoup(page.content, \"html.parser\")\n",
    "\n",
    "soup2 = BeautifulSoup(soup1.prettify(), 'html.parser')\n",
    "\n",
    "title = soup2.find(id=\"productTitle\").get_text()\n",
    "print(title)\n",
    "\n",
    "# Collect pieces of the price- the currency, dollars and cents amount and combine them back together.\n",
    "price_symbol = soup2.find(class_='a-price-symbol').get_text(strip=True)\n",
    "price_whole = soup2.find(class_='a-price-whole').get_text(strip=True)\n",
    "price_fraction = soup2.find(class_='a-price-fraction').get_text(strip=True)\n",
    "price = f'{price_symbol}{price_whole}{price_fraction}'\n",
    "print(price)\n",
    "\n",
    "rating = soup2.find(class_='a-size-base a-color-base').get_text(strip=True)\n",
    "print(rating)"
   ]
  },
  {
   "cell_type": "code",
   "execution_count": 27,
   "id": "6edc53cc",
   "metadata": {},
   "outputs": [
    {
     "name": "stdout",
     "output_type": "stream",
     "text": [
      "I Got Your Back Stick Figure Graphic Friendship Novelty Sarcastic Funny T Shirt\n",
      "18.99\n"
     ]
    }
   ],
   "source": [
    "# Format the title and the price to get rid of the extra space\n",
    "price = price.strip()[1:]\n",
    "title = title.strip()\n",
    "\n",
    "print(title)\n",
    "print(price)"
   ]
  },
  {
   "cell_type": "code",
   "execution_count": 28,
   "id": "e2e9c569",
   "metadata": {},
   "outputs": [
    {
     "name": "stdout",
     "output_type": "stream",
     "text": [
      "2024-06-14\n"
     ]
    }
   ],
   "source": [
    "# Check today's date\n",
    "today = datetime.date.today()\n",
    "print(today)"
   ]
  },
  {
   "cell_type": "code",
   "execution_count": 29,
   "id": "e40cf322",
   "metadata": {},
   "outputs": [],
   "source": [
    "header = ['Title', 'Price', 'Date']\n",
    "data = (title, price, today)\n",
    "\n",
    "# with open('AmazonWebScraperDataset.csv', 'w', newline='', encoding='UTF8') as f:\n",
    "#     writer = csv.writer(f)\n",
    "#     writer.writerow(header)\n",
    "#     writer.writerow(data)"
   ]
  },
  {
   "cell_type": "code",
   "execution_count": 30,
   "id": "9989732e",
   "metadata": {},
   "outputs": [
    {
     "name": "stdout",
     "output_type": "stream",
     "text": [
      "                                               Title  Price        Date\n",
      "0  I Got Your Back Stick Figure Graphic Friendshi...  18.99  2024-06-14\n"
     ]
    }
   ],
   "source": [
    "# Use pandas to check changes made to the csv file without opening it\n",
    "df = pd.read_csv(r'C:\\Users\\ejkal\\AmazonWebScraperDataset.csv')\n",
    "print(df)        "
   ]
  },
  {
   "cell_type": "code",
   "execution_count": 31,
   "id": "0c5930f4",
   "metadata": {},
   "outputs": [],
   "source": [
    "# Append data to the csv file\n",
    "with open('AmazonWebScraperDataset.csv', 'a+', newline='', encoding='UTF8') as f:\n",
    "    writer = csv.writer(f)\n",
    "    writer.writerow(data)"
   ]
  },
  {
   "cell_type": "code",
   "execution_count": 34,
   "id": "e9759a91",
   "metadata": {},
   "outputs": [],
   "source": [
    "# Automate the process\n",
    "def check_price():\n",
    "    URL = 'https://www.amazon.com/dp/B076FTC6FQ/ref=sspa_dk_detail_0?psc=1&pd_rd_i=B076FTC6FQ&pd_rd_w=nqEDv&content-id=amzn1.sym.eb7c1ac5-7c51-4df5-ba34-ca810f1f119a&pf_rd_p=eb7c1ac5-7c51-4df5-ba34-ca810f1f119a&pf_rd_r=VRMY738MW759CKB2E9EA&pd_rd_wg=FG7fv&pd_rd_r=58d7546e-3f51-4955-860c-dfe534a963dd&s=apparel&sp_csd=d2lkZ2V0TmFtZT1zcF9kZXRhaWw'\n",
    "\n",
    "    headers = { \"Accept\": \"text/html,application/xhtml+xml,application/xml;q=0.9,image/avif,image/webp,image/apng,*/*;q=0.8,application/signed-exchange;v=b3;q=0.7\", \n",
    "                \"Accept-Encoding\": \"gzip, deflate, br, zstd\", \n",
    "                \"Accept-Language\": \"en-GB,en-US;q=0.9,en;q=0.8,pl;q=0.7\", \n",
    "                \"User-Agent\": \"Mozilla/5.0 (Windows NT 10.0; Win64; x64) AppleWebKit/537.36 (KHTML, like Gecko) Chrome/125.0.0.0 Safari/537.36\", \"Accept-Encoding\":\"gzip, deflate\"}\n",
    "\n",
    "    page = requests.get(URL, headers = headers)\n",
    "\n",
    "    soup1 = BeautifulSoup(page.content, \"html.parser\")\n",
    "\n",
    "    soup2 = BeautifulSoup(soup1.prettify(), 'html.parser')\n",
    "\n",
    "    title = soup2.find(id=\"productTitle\").get_text()\n",
    "\n",
    "    # Collect pieces of the price- the currency, dollars and cents amount and combine them back together.\n",
    "    price_symbol = soup2.find(class_='a-price-symbol').get_text(strip=True)\n",
    "    price_whole = soup2.find(class_='a-price-whole').get_text(strip=True)\n",
    "    price_fraction = soup2.find(class_='a-price-fraction').get_text(strip=True)\n",
    "    price = f'{price_symbol}{price_whole}{price_fraction}'\n",
    "    \n",
    "    price = price.strip()[1:]\n",
    "    title = title.strip()\n",
    "\n",
    "    today = datetime.date.today()\n",
    "\n",
    "    header = ['Title', 'Price', 'Date']\n",
    "    data = (title, price, today)\n",
    "    \n",
    "    with open('AmazonWebScraperDataset.csv', 'a+', newline='', encoding='UTF8') as f:\n",
    "        writer = csv.writer(f)\n",
    "        writer.writerow(data)"
   ]
  },
  {
   "cell_type": "code",
   "execution_count": null,
   "id": "676b5bd8",
   "metadata": {},
   "outputs": [],
   "source": [
    "while(True):\n",
    "    check_price()\n",
    "    time.sleep(86400)"
   ]
  },
  {
   "cell_type": "code",
   "execution_count": 36,
   "id": "9458f067",
   "metadata": {},
   "outputs": [
    {
     "name": "stdout",
     "output_type": "stream",
     "text": [
      "                                               Title  Price        Date\n",
      "0  I Got Your Back Stick Figure Graphic Friendshi...  18.99  2024-06-14\n",
      "1  I Got Your Back Stick Figure Graphic Friendshi...  18.99  2024-06-14\n",
      "2  I Got Your Back Stick Figure Graphic Friendshi...  18.99  2024-06-14\n",
      "3  I Got Your Back Stick Figure Graphic Friendshi...  18.99  2024-06-14\n",
      "4  I Got Your Back Stick Figure Graphic Friendshi...  18.99  2024-06-14\n",
      "5  I Got Your Back Stick Figure Graphic Friendshi...  18.99  2024-06-14\n"
     ]
    }
   ],
   "source": [
    "df = pd.read_csv(r'C:\\Users\\ejkal\\AmazonWebScraperDataset.csv')\n",
    "print(df) "
   ]
  },
  {
   "cell_type": "code",
   "execution_count": null,
   "id": "bd31d348",
   "metadata": {},
   "outputs": [],
   "source": []
  }
 ],
 "metadata": {
  "kernelspec": {
   "display_name": "Python 3 (ipykernel)",
   "language": "python",
   "name": "python3"
  },
  "language_info": {
   "codemirror_mode": {
    "name": "ipython",
    "version": 3
   },
   "file_extension": ".py",
   "mimetype": "text/x-python",
   "name": "python",
   "nbconvert_exporter": "python",
   "pygments_lexer": "ipython3",
   "version": "3.11.5"
  }
 },
 "nbformat": 4,
 "nbformat_minor": 5
}
